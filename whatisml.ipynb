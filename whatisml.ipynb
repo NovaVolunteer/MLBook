{
 "cells": [
  {
   "cell_type": "markdown",
   "metadata": {
    "vscode": {
     "languageId": "yaml"
    }
   },
   "source": [
    "---\n",
    "jupytext:\n",
    "  formats: md:myst\n",
    "  text_representation:\n",
    "    extension: .md\n",
    "    format_name: myst\n",
    "kernelspec:\n",
    "  display_name: Python 3\n",
    "  language: python\n",
    "  name: python3\n",
    "---"
   ]
  },
  {
   "cell_type": "markdown",
   "metadata": {},
   "source": [
    "## What is Machine Learning"
   ]
  },
  {
   "cell_type": "code",
   "execution_count": 21,
   "metadata": {
    "tags": [
     "remove-input"
    ]
   },
   "outputs": [
    {
     "data": {
      "text/html": [
       "\n",
       "<figure>\n",
       "    <iframe width=\"560\" height=\"315\" src=\"https://www.youtube.com/embed/vA6QU5f9Rjk\" frameborder=\"0\" allowfullscreen></iframe>\n",
       "    <figcaption>Introduction to Machine Learning</figcaption>\n",
       "</figure>\n"
      ],
      "text/plain": [
       "<IPython.core.display.HTML object>"
      ]
     },
     "execution_count": 21,
     "metadata": {},
     "output_type": "execute_result"
    }
   ],
   "source": [
    "from IPython.display import HTML\n",
    "\n",
    "HTML('''\n",
    "<figure>\n",
    "    <iframe width=\"560\" height=\"315\" src=\"https://www.youtube.com/embed/vA6QU5f9Rjk\" frameborder=\"0\" allowfullscreen></iframe>\n",
    "    <figcaption>Introduction to Machine Learning</figcaption>\n",
    "</figure>\n",
    "''')"
   ]
  },
  {
   "cell_type": "markdown",
   "metadata": {},
   "source": [
    "### Machine Learning Definitions\n",
    "\n",
    "Arthur Samuel (Coined the term in 1959 at IBM):\n",
    "\n",
    "- “A field of Computer Science that gives computers the ability to learn\n",
    "without being explicitly programmed.”\n",
    "\n",
    "Deep Learning, Goodfellow et al:\n",
    "\n",
    "- “The ability [for systems] to acquire their own knowledge, by\n",
    "extracting patterns from raw data.”\n",
    "\n",
    "Tom Mitchell (Computer Scientist & Professor at Carnegie Mellon):\n",
    "\n",
    "- “A computer program is said to learn from experience E with respect\n",
    "to some set of tasks T and performance measure P if its performance\n",
    "tasks in T, as measured by P, improves with experience E.”\n",
    "\n"
   ]
  },
  {
   "cell_type": "markdown",
   "metadata": {},
   "source": [
    "### [Machine Learning Overview](https://en.wikipedia.org/wiki/Machine_learning)\n",
    "\n",
    "-  A general-purpose technology or GPT is a term coined to describe a new method of producing and inventing that is important enough to have a protracted aggregate impact. Means that ML can be used across all market sectors everything from Marketing to Agriculture to Sports. \n",
    "- However, there is a lot of confusion about what is meant by Machine Learning, especially with all the buzz around Artificial Intelligence. \n",
    "- I always found the graphic below really helpful in explaining the difference between AI and Machine Learning. Essentially Machine Learning is a subcategory of AI and Deep Learning is a type of Machine Learning. In the current popular culture discourse when people say \"AI\" what they really mean is [Deep Learning](https://en.wikipedia.org/wiki/Deep_learning). Which is a type of Machine Learning that focuses on the use of Neural Networks. "
   ]
  },
  {
   "cell_type": "markdown",
   "metadata": {
    "tags": [
     "remove-input"
    ]
   },
   "source": [
    ":::{image} ai_ml.png\n",
    ":alt: AI Categories\n",
    ":width: 500px\n",
    ":align: center\n",
    "AI Categories \\\n",
    "\n",
    ":::"
   ]
  },
  {
   "cell_type": "markdown",
   "metadata": {},
   "source": [
    ".\n",
    "\n",
    "### Types of Machine Learning\n",
    "#### [Supervised Machine Learning](https://en.wikipedia.org/wiki/Supervised_learning)\n",
    "\n",
    "When we know what is to be learned by the machine, we have a target variable. In cases of [classification](https://en.wikipedia.org/wiki/Statistical_classification) this is a discrete number and often is binary [1,0]. [Regression](https://en.wikipedia.org/wiki/Regression_analysis) is the other situation, meaning that our target variable is continuous. An example of a discrete target might be whether a student gets admitted into college or not, as compared to a continuous that might try to predict the total points scored in a basketball game.  \n",
    "\n",
    " Another way to think about it is that we understand the end point of the problem but have not yet discovered the road to get there. As an example, think of a online social media platform with the goal of ensuring you stay on the platform as long as possible so you can see more ads, which drives up revenue for the site. The goal is to build a machine that can predict which content will keep you on the site as long as possible and then serve that content as fast as possible. \n",
    "\n",
    "Consider this example and use the definitions below to identify in this scenario what is the target, possible features and the business metric. \n",
    "\n",
    "##### Model Definitions\n",
    "- Target Variable: This is the variable we are interested in better understanding. \n",
    "- Features: These are the variables we will use to better understand the target variable. \n",
    "- Independent Business Metric: The measure we use to track whether the algorithm we have built is delivering value for our organization. \n"
   ]
  },
  {
   "cell_type": "markdown",
   "metadata": {},
   "source": [
    ":::{tip}\n",
    "\n",
    "In working through this example feel free to give the social media site a product. Maybe it is images, videos or text chunks if that makes the process easier. Also, it is possible, if not very likely, that there is more than one right answer for all three.    \n",
    "\n",
    ":::"
   ]
  },
  {
   "cell_type": "markdown",
   "metadata": {},
   "source": [
    ":::{important}\n",
    ":class: dropdown\n",
    "\n",
    "### Answers (don't look until you've finished)\n",
    "\n",
    "- Target: Amount of time users spend on the site\n",
    "- Features: Clicks, demographics of the customers, time of day, web browser, browsing history, type of content..etc.\n",
    "- Metric: Revenue generated after the model is deployed.\n",
    ":::"
   ]
  },
  {
   "cell_type": "markdown",
   "metadata": {},
   "source": [
    "#### [Unsupervised Machine Learning](https://en.wikipedia.org/wiki/Unsupervised_learning)\n",
    "\n",
    "When we do not know what is to be learned by the machine or more simply we do not have a target variable. Another way to think about it is that we do not know the end point or the road! \n",
    "\n",
    "Let's use same example from above of a online social media platform with the goal to ensure you stay on the platform as long as possible. We have the same problem, trying to predict which content will keep you on the site as long as possible and then serving content as fast as possible. Consider this example but instead of defining the items, instead try to think of a portion of the problem that would require a unsupervised approach.   "
   ]
  },
  {
   "cell_type": "markdown",
   "metadata": {},
   "source": [
    ":::{tip}\n",
    "\n",
    "First, this is pretty tricky, so no worries if the answer does not come right away. Second, try to include in your thinking the types of customers on the site.     \n",
    "\n",
    ":::"
   ]
  },
  {
   "cell_type": "markdown",
   "metadata": {},
   "source": [
    ":::{important}\n",
    ":class: dropdown\n",
    "\n",
    "### Answer (don't look until you've finished)\n",
    "\n",
    "A common use for unsupervised machine learning in e-commerce is customers [segmentation](https://www.geeksforgeeks.org/customer-segmentation-via-cluster-analysis/). We essentially divided the customers into groups based on buying patterns and associated features. The key point here is that we do not know what the groups are before we begin the process, thus the *un*supervised learning.\n",
    ":::"
   ]
  },
  {
   "cell_type": "markdown",
   "metadata": {},
   "source": [
    "#### [Reinforcement Learning](https://en.wikipedia.org/wiki/Reinforcement_learning) \n",
    "\n",
    "The last general category is reinforcement learning which you can think of a combination of the two previous categories. Reinforcement methods do not need to have labelled data, meaning input-output pairs are not needed. Instead these algos use knowledge that is present to adopt to the environment. To use the driving example, we know where we are going but as compared to supervised learning that determines the best way to get there ahead of time, instead we simply start driving to learn the fastest way. \n",
    "\n",
    "Another example is how animals adopt to their environments in such a way that maximizes food and reduces danger. This course will mostly focus on supervised methods with some unsupervised. \n",
    "\n"
   ]
  },
  {
   "cell_type": "markdown",
   "metadata": {},
   "source": [
    ":::{seealso}\n",
    "### Categories of Machine Learning Models\n",
    "\n",
    "The below image does a pretty good job of listing and categorizing all the different types of Machine Learning Algorithms. Notice on the left the different use cases whereas the right are the broad categories. Technically all the methods could fit into Supervised, Unsupervised and Reinforcement Learning but this image gives a idea of all the different algorithms that are out there.       \n",
    "\n",
    ":::"
   ]
  },
  {
   "cell_type": "markdown",
   "metadata": {},
   "source": [
    ":::{image} machine-learning-mind-map.png\n",
    ":alt: ML Models\n",
    ":width: 550px\n",
    ":align: center\n",
    "\n",
    "\n",
    ":::"
   ]
  },
  {
   "cell_type": "markdown",
   "metadata": {},
   "source": [
    "<br>\n",
    "\n",
    "#### Machine Learning Ready \n",
    "\n",
    "Successful implementation of machine learning algorithms requires **detailed** planning and clear requirements on what is to be learned. In large part this requires a lot of **trail and error** and a robust engineering process to ensure the solution can and does work in deployment. This is why we will focus a lot on the [**Data Science Lifecycle**](./dslifecycle.ipynb), throughout the course and work to employ a **Experimental** Mindset that is critical for successfully development any ML algo. \n",
    "\n",
    "##### Ideal Conditions..Suitable for Machine Learning\n",
    "- **Large Datasets**: Now what *large* means is dependant on the situation trying to be learned, but generally small datasets with a few hundred rows just do not work well with ML algorithms. \n",
    "- **Inputs need to map well to Outputs**: This is true of all quantitative modelling and it seems simple, but not all dataset are high quality enough to be used for prediction. This is possibly the **most important** lesson to learn. The data science lifecycle (next section) is less about building a algorithms and more about proving the data you have can address the problem at hand. \n",
    "- **Causality is not Required**: The approaches we will cover in this course and most machine learning approaches, do not address [causality](https://en.wikipedia.org/wiki/Causality). This is a key difference between classical statistics that works to model some behavior or process as compared to machine learning that only looks to generate predictive probabilities. Put more plainly, machine learning algorithms should not be used when you need to know *why* the results are occurring. This means we cannot say the features we are using in our algorithms are **causing** the target only that they are **predictive** of the target.\n",
    "\n",
    "\n",
    "\n"
   ]
  },
  {
   "cell_type": "markdown",
   "metadata": {},
   "source": [
    ":::{seealso}\n",
    "\n",
    "Here is a nice article from statistics horizons that spells out these differences: [Prediction vs. Causation in Regression Analysis](https://statisticalhorizons.com/prediction-vs-causation-in-regression-analysis/). In this article *dependent* has the same meaning as target that we have used.  \n",
    "\n",
    ":::"
   ]
  }
 ],
 "metadata": {
  "kernelspec": {
   "display_name": "base",
   "language": "python",
   "name": "python3"
  },
  "language_info": {
   "codemirror_mode": {
    "name": "ipython",
    "version": 3
   },
   "file_extension": ".py",
   "mimetype": "text/x-python",
   "name": "python",
   "nbconvert_exporter": "python",
   "pygments_lexer": "ipython3",
   "version": "3.12.4"
  }
 },
 "nbformat": 4,
 "nbformat_minor": 2
}
