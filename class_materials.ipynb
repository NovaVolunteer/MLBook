{
 "cells": [
  {
   "cell_type": "markdown",
   "metadata": {},
   "source": [
    "## Getting and Using Class Materials\n",
    "\n",
    "The class materials for the course will be provide in three locations:\n",
    "\n",
    "1. Main GitHub repo for the class located here: [DS 3021 Foundations of ML](https://github.com/UVADS/DS-3021)\n",
    "2. A supplimental interactive textbook is also being developed that will host videos and additional background material for the class. In fact that's where you are right now, ha! It's still under construction but should be completed during the semester. \n",
    "3. Canvas website for the course. \n",
    "\n",
    "At the start of class everyone will clone the course repo and create your own GitHub repo and local directory that we will use throughout the class. Below is a explation of how to do that in VS Code + GitHub"
   ]
  },
  {
   "cell_type": "markdown",
   "metadata": {},
   "source": [
    "### VS Code + GitHub \n",
    "\n",
    "In this section I'm going to walk you through have to clone the course repo through VS Code and get the Virtual Environment that we will be using for the class up and runnning. There's a video but I also wanted to include a lot of reference materials here as well. \n",
    "\n",
    "We are essentially using three technologies to make this work. VS Code, Dev Containers (Docker) and GitHub. \n",
    "\n",
    " - **VS Code**: You all have likely used VS Code before but if not here is a great resources for getting started: [Getting Started with VS Code](https://code.visualstudio.com/docs/introvideos/basics)\n",
    "\n",
    " - **GitHub in VS Code**: Again here's some nice material to get you started: [Using Git Source Control in VS Code](https://code.visualstudio.com/docs/sourcecontrol/overview)\n",
    "\n",
    " - **Dev Containers in VS Code**: Once again, nice overview: [Developing inside a Container]:(https://code.visualstudio.com/docs/devcontainers/containers)\n",
    "\n",
    " The nice part is I've actually already created the dev container in the repo we will be using for the class. So once you have Docker installed locally on your computer and the dev container extentions inside VS Code the container *should* building automagically and you'll be up and running right away.  \n",
    "\n",
    " We will work to make sure everyone is up and running the first week of class so no worries. \n",
    "\n",
    "\n",
    "\n",
    "# insert video "
   ]
  }
 ],
 "metadata": {
  "language_info": {
   "name": "python"
  }
 },
 "nbformat": 4,
 "nbformat_minor": 2
}
