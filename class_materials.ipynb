{
 "cells": [
  {
   "cell_type": "markdown",
   "metadata": {},
   "source": [
    "---\n",
    "title: Getting and Using Class Materials\n",
    "---"
   ]
  },
  {
   "cell_type": "markdown",
   "metadata": {},
   "source": [
    "### Class Materials\n",
    "\n",
    "The class materials for the course will be provide in three locations:\n",
    "\n",
    "1. Main GitHub repo for the class located here: [DS 3021 Foundations of ML](https://github.com/UVADS/DS-3021)\n",
    "2. A supplimental interactive textbook is also being developed that will host videos and additional background material for the class. In fact that's where you are right now, ha! It's still under construction but should be completed during the semester. \n",
    "3. Canvas website for the course. \n",
    "\n",
    "At the start of class everyone will [fork](https://www.geeksforgeeks.org/how-to-fork-a-github-repository/) the course repo to your GitHub page, you will then [clone the repo](https://github.com/git-guides/git-clone) via VS Code to a local directory that we will use throughout the class. Below is a explation of how to do that in VS Code + GitHub."
   ]
  },
  {
   "cell_type": "markdown",
   "metadata": {},
   "source": [
    "### VS Code + GitHub \n",
    "\n",
    "In this section I'm going to walk you through have to clone the course repo through VS Code and get the Virtual Environment that we will be using for the class up and runnning. There's a video but I also wanted to include a lot of reference materials here as well. \n",
    "\n",
    "We are essentially using three technologies to make this work: VS Code, Dev Containers (Docker) and GitHub. \n",
    "\n",
    " - **VS Code**: You all have likely used VS Code before but if not here is a great resources for getting started: [Getting Started with VS Code](https://code.visualstudio.com/docs/introvideos/basics)\n",
    "\n",
    " - **GitHub in VS Code**: Again here's some nice material to get you started: [Using Git Source Control in VS Code](https://code.visualstudio.com/docs/sourcecontrol/overview)\n",
    "\n",
    " - **Dev Containers in VS Code**: Once again, nice overview: [Developing inside a Container](https://code.visualstudio.com/docs/devcontainers/containers)\n",
    "\n",
    " The nice part is I've actually already created the dev container in the repo we will be using for the class. So once you have Docker installed locally on your computer and the dev container extentions inside VS Code the container *should* build automagically and you'll be up and running right away.  \n",
    "\n",
    " We will work to make sure everyone is up and running the first week of class so no worries. \n",
    " "
   ]
  },
  {
   "cell_type": "markdown",
   "metadata": {},
   "source": [
    "### Quick Videos"
   ]
  },
  {
   "cell_type": "code",
   "execution_count": 9,
   "metadata": {
    "tags": [
     "remove-input"
    ]
   },
   "outputs": [
    {
     "data": {
      "text/html": [
       "\n",
       "<figure>\n",
       "    <iframe width=\"560\" height=\"315\" src=\"https://www.youtube.com/embed/D8KbNoFfb7A\" frameborder=\"0\" allowfullscreen></iframe>\n",
       "    <figcaption>Introduction to VS Code and Dev Containers</figcaption>\n",
       "</figure>\n"
      ],
      "text/plain": [
       "<IPython.core.display.HTML object>"
      ]
     },
     "execution_count": 9,
     "metadata": {},
     "output_type": "execute_result"
    }
   ],
   "source": [
    "from IPython.display import HTML\n",
    "\n",
    "HTML('''\n",
    "<figure>\n",
    "    <iframe width=\"560\" height=\"315\" src=\"https://www.youtube.com/embed/D8KbNoFfb7A\" frameborder=\"0\" allowfullscreen></iframe>\n",
    "    <figcaption>Introduction to VS Code and Dev Containers</figcaption>\n",
    "</figure>\n",
    "''')"
   ]
  },
  {
   "cell_type": "markdown",
   "metadata": {},
   "source": [
    ":::{tip}\n",
    "### VS Code Extenstions\n",
    "I currently have 20 or more running in the Dev Container. I left the devcontainer.json file really simple so as to reduce potential errors, so you likely need to load more extensions into the container evironment. The extension tab on the left will list what is already loaded in the container. \n",
    "\n",
    ":::"
   ]
  },
  {
   "cell_type": "markdown",
   "metadata": {},
   "source": []
  }
 ],
 "metadata": {
  "kernelspec": {
   "display_name": "base",
   "language": "python",
   "name": "python3"
  },
  "language_info": {
   "codemirror_mode": {
    "name": "ipython",
    "version": 3
   },
   "file_extension": ".py",
   "mimetype": "text/x-python",
   "name": "python",
   "nbconvert_exporter": "python",
   "pygments_lexer": "ipython3",
   "version": "3.12.4"
  }
 },
 "nbformat": 4,
 "nbformat_minor": 2
}
