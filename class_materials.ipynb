{
 "cells": [
  {
   "cell_type": "markdown",
   "metadata": {},
   "source": [
    "---\n",
    "title: Getting and Using Class Materials\n",
    "---"
   ]
  },
  {
   "cell_type": "markdown",
   "metadata": {},
   "source": [
    "### Class Materials\n",
    "\n",
    "The class materials for the course will be provide in three locations:\n",
    "\n",
    "1. Main GitHub repo for the class located here: [DS 3021 Foundations of ML](https://github.com/UVADS/DS-3021)\n",
    "2. A supplimental interactive textbook is also being developed that will host videos and additional background material for the class. In fact that's where you are right now, ha! It's still under construction but should be completed during the semester. \n",
    "3. Canvas website for the course. \n",
    "\n",
    "At the start of class everyone will [fork](https://www.geeksforgeeks.org/how-to-fork-a-github-repository/) the course repo to your GitHub page, you will then [clone the repo](https://github.com/git-guides/git-clone) via VS Code to a local directory that we will use throughout the class. Below is a explation of how to do that in VS Code + GitHub."
   ]
  },
  {
   "cell_type": "markdown",
   "metadata": {},
   "source": [
    "### VS Code + GitHub \n",
    "\n",
    "In this section I'm going to walk you through how to clone the course repo through VS Code and get the Development Environment that we will be using for the class up and running. I've created some videos but I also wanted to include a lot of reference materials here as well. \n",
    "\n",
    "We are essentially using three technologies to make this work: VS Code, Dev Containers (Docker) and GitHub. \n",
    "\n",
    " - **VS Code**: You all have likely used VS Code before but if not here is a great resources for getting started: [Getting Started with VS Code](https://code.visualstudio.com/docs/introvideos/basics)\n",
    "\n",
    " - **GitHub in VS Code**: Again here's some nice material to get you started: [Using Git Source Control in VS Code](https://code.visualstudio.com/docs/sourcecontrol/overview)\n",
    "\n",
    " - **Dev Containers in VS Code**: Once again, nice overview: [Developing inside a Container](https://code.visualstudio.com/docs/devcontainers/containers)\n",
    "\n",
    " - **Install Docker for iOS or Windows**: Here is the software source: [Docker]()\n",
    "\n",
    " The nice part is I've actually already created the dev container in the repo we will be using for the class. So once you have Docker installed locally on your computer and the dev container extensions inside VS Code the development environment *should* build automagically and you'll be up and running right away.  \n",
    "\n",
    " We will work to make sure everyone is good to go the first week of class so no worries. \n",
    " "
   ]
  },
  {
   "cell_type": "markdown",
   "metadata": {},
   "source": [
    "### Quick Videos"
   ]
  },
  {
   "cell_type": "code",
   "execution_count": 2,
   "metadata": {
    "tags": [
     "remove-input"
    ]
   },
   "outputs": [
    {
     "data": {
      "text/html": [
       "\n",
       "<figure>\n",
       "    <iframe width=\"560\" height=\"315\" src=\"https://www.youtube.com/embed/D8KbNoFfb7A\" frameborder=\"0\" allowfullscreen></iframe>\n",
       "    <figcaption>Introduction to VS Code and Dev Containers</figcaption>\n",
       "</figure>\n"
      ],
      "text/plain": [
       "<IPython.core.display.HTML object>"
      ]
     },
     "execution_count": 2,
     "metadata": {},
     "output_type": "execute_result"
    }
   ],
   "source": [
    "from IPython.display import HTML\n",
    "\n",
    "HTML('''\n",
    "<figure>\n",
    "    <iframe width=\"560\" height=\"315\" src=\"https://www.youtube.com/embed/D8KbNoFfb7A\" frameborder=\"0\" allowfullscreen></iframe>\n",
    "    <figcaption>Introduction to VS Code and Dev Containers</figcaption>\n",
    "</figure>\n",
    "''')"
   ]
  },
  {
   "cell_type": "markdown",
   "metadata": {},
   "source": [
    ":::{tip}\n",
    "### VS Code Extensions\n",
    "I currently have 20 or more running in the Dev Container. I left the devcontainer.json file really simple so as to reduce potential errors, so you likely need to load more extensions into the container environment. The extension tab on the left will list what is already loaded in the container. You can right click on the extension and select **add to devcontainer.json** and extension will be added to your dev container file, which will allow the extension to loaded every time the environment is built. If you click hover on the cloud with a downward facing error by the DEV CONTAIN header that will allow you to search and added more extensions as needed. \n",
    "\n",
    ":::"
   ]
  },
  {
   "cell_type": "code",
   "execution_count": 4,
   "metadata": {
    "tags": [
     "remove-input"
    ]
   },
   "outputs": [
    {
     "data": {
      "text/html": [
       "\n",
       "<figure>\n",
       "    <iframe width=\"560\" height=\"315\" src=\"https://www.youtube.com/embed/qPlbHPygL3k\" frameborder=\"0\" allowfullscreen></iframe>\n",
       "    <figcaption>How to Create and Maintain a Requirements.txt file</figcaption>\n",
       "</figure>\n"
      ],
      "text/plain": [
       "<IPython.core.display.HTML object>"
      ]
     },
     "execution_count": 4,
     "metadata": {},
     "output_type": "execute_result"
    }
   ],
   "source": [
    "\n",
    "HTML('''\n",
    "<figure>\n",
    "    <iframe width=\"560\" height=\"315\" src=\"https://www.youtube.com/embed/qPlbHPygL3k\" frameborder=\"0\" allowfullscreen></iframe>\n",
    "    <figcaption>How to Create and Maintain a Requirements.txt file</figcaption>\n",
    "</figure>\n",
    "''')"
   ]
  },
  {
   "cell_type": "markdown",
   "metadata": {},
   "source": [
    ":::{important}\n",
    "### PiP Documentation\n",
    "We will be working through the semester to add to our requirements.txt for our Development\n",
    "Container. \n",
    "Using this commands will be important:\n",
    "- pip freeze > requirements.txt - this creates our requirements file\n",
    "- pip install -r requirements.txt - this loads the packages listed in the file\n",
    "- pip install --upgrade pip - likely only need to use this once, it will ensure you\n",
    "have the latest version of pip installed\n",
    "- [pip requirements documentation](https://pip.pypa.io/en/stable/reference/requirements-file-format/) - should provide all the information you need on this process\n",
    "\n",
    ":::"
   ]
  },
  {
   "cell_type": "markdown",
   "metadata": {},
   "source": [
    "### Helpful Git/GitHub Commands\n",
    "\n",
    "Because I will be updating the repo that you clone and downloaded to your new Dev Container for the course you will add new content to your repo that won't be in mine or may change code files with the same name as the once I originally create. For example, so you added comments to this file for your own personal notes. Which is totally fine and probably even a smart thing to do. However, that would me that this file is different from the original, so when you went to pull the new content for the week there would be a merge error. The commands below can address this issue, in order. \n",
    "\n",
    "- git stash - Use this to save the uncommitted changes you've made locally for later. This command saves your local modifications away and reverts the working directory to match the HEAD commit so that it will give you a clean working directory.\n",
    "- git pull - Now you should be able to pull the new files into your directory. \n",
    "- git stash pop - When you are ready run this command and it will apply your changes and you'll have the new files. \n",
    "- Here's a link that provides more details [Stash and Stash Pop](https://www.geeksforgeeks.org/how-to-apply-stash-in-git/)  \n",
    "\n",
    ":::{tip}\n",
    "It might be easier to rename the files from class or to create your own new files to avoid any conflicts. There's always a way to fix git issues without loosing anything, so don't worry if you're in a merge error death spiral, we can always save your files a do a rebase.\n",
    "::: "
   ]
  }
 ],
 "metadata": {
  "kernelspec": {
   "display_name": "base",
   "language": "python",
   "name": "python3"
  },
  "language_info": {
   "codemirror_mode": {
    "name": "ipython",
    "version": 3
   },
   "file_extension": ".py",
   "mimetype": "text/x-python",
   "name": "python",
   "nbconvert_exporter": "python",
   "pygments_lexer": "ipython3",
   "version": "3.12.4"
  }
 },
 "nbformat": 4,
 "nbformat_minor": 2
}
