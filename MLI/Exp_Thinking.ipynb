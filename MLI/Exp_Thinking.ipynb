{
 "cells": [
  {
   "cell_type": "markdown",
   "metadata": {},
   "source": [
    "This section will talk about Experimental Thinking and Design in Machine Learning. It will cover the following topics:\n",
    "- What is Experimental Thinking?\n",
    "- What is the Data Science Life Cycle?\n",
    "- Developing a questions\n",
    "  - Data first or Question first?\n",
    "  - Creating a analysis plan\n",
    "- Dropping breadcrumps along the way "
   ]
  },
  {
   "cell_type": "markdown",
   "metadata": {},
   "source": []
  }
 ],
 "metadata": {
  "language_info": {
   "name": "python"
  }
 },
 "nbformat": 4,
 "nbformat_minor": 2
}
