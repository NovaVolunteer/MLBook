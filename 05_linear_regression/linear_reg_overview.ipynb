{
  "cells": [
    {
      "cell_type": "raw",
      "metadata": {},
      "source": [
        "---\n",
        "execute:\n",
        "  cache: true\n",
        "---"
      ]
    },
    {
      "cell_type": "markdown",
      "metadata": {},
      "source": [
        "# Linear Regression with `sklearn`\n",
        "\n",
        "Let's explore linear regression using an example dataset of student grades. Our goal will be to train a model to predict a student's grade given the number of hours they have studied.\n",
        "\n",
        "## Data Loading\n",
        "\n",
        "Loading the data:"
      ]
    },
    {
      "cell_type": "code",
      "execution_count": null,
      "metadata": {
        "vscode": {
          "languageId": "python"
        }
      },
      "outputs": [],
      "source": [
        "#| code-overflow: scroll\n",
        "\n",
        "from pandas import read_csv\n",
        "\n",
        "repo_url = \"https://raw.githubusercontent.com/prof-rossetti/python-for-finance\"\n",
        "request_url = f\"{repo_url}/main/docs/data/grades.csv\"\n",
        "\n",
        "df = read_csv(request_url)\n",
        "print(len(df))\n",
        "df.head()"
      ]
    },
    {
      "cell_type": "markdown",
      "metadata": {},
      "source": [
        "## Data Exploration\n",
        "\n",
        "Checking for null values:"
      ]
    },
    {
      "cell_type": "code",
      "execution_count": null,
      "metadata": {
        "vscode": {
          "languageId": "python"
        }
      },
      "outputs": [],
      "source": [
        "df[\"StudyHours\"].isna().sum()"
      ]
    },
    {
      "cell_type": "code",
      "execution_count": null,
      "metadata": {
        "vscode": {
          "languageId": "python"
        }
      },
      "outputs": [],
      "source": [
        "df.tail()"
      ]
    },
    {
      "cell_type": "markdown",
      "metadata": {},
      "source": [
        "For \"Ali\", we don't have a grade or number of study hours, so we should drop that row.\n",
        "\n",
        "For \"Juan\", since there is no label, we can't use this record to train the model, but we could use the trained model to predict their grade later (given 8 study hours).\n",
        "\n",
        "Dropping nulls:"
      ]
    },
    {
      "cell_type": "code",
      "execution_count": null,
      "metadata": {
        "vscode": {
          "languageId": "python"
        }
      },
      "outputs": [],
      "source": [
        "df.dropna(inplace=True)\n",
        "df.tail()"
      ]
    },
    {
      "cell_type": "markdown",
      "metadata": {},
      "source": [
        "Exploring relationship between variables:\n"
      ]
    },
    {
      "cell_type": "code",
      "execution_count": null,
      "metadata": {
        "vscode": {
          "languageId": "python"
        }
      },
      "outputs": [],
      "source": [
        "import plotly.express as px\n",
        "\n",
        "px.scatter(df, x=\"StudyHours\", y=\"Grade\", height=350,\n",
        "            title=\"Relationship between Study Hours and Grades\",\n",
        "            trendline=\"ols\", trendline_color_override=\"red\",\n",
        ")"
      ]
    },
    {
      "cell_type": "markdown",
      "metadata": {},
      "source": [
        "Checking for normality and outliers:"
      ]
    },
    {
      "cell_type": "code",
      "execution_count": null,
      "metadata": {
        "vscode": {
          "languageId": "python"
        }
      },
      "outputs": [],
      "source": [
        "px.violin(df, x=\"StudyHours\", box=True, points=\"all\", height=350,\n",
        "    title=\"Distribution of Study Hours\",\n",
        ")"
      ]
    },
    {
      "cell_type": "code",
      "execution_count": null,
      "metadata": {
        "vscode": {
          "languageId": "python"
        }
      },
      "outputs": [],
      "source": [
        "px.violin(df, x=\"Grade\", box=True, points=\"all\", height=350,\n",
        "            title=\"Distribution of Grade\"\n",
        ")"
      ]
    },
    {
      "cell_type": "markdown",
      "metadata": {},
      "source": [
        "## Data Splitting\n",
        "\n",
        "### X/Y Split\n",
        "\n",
        "Identifying the dependent and independent variables."
      ]
    },
    {
      "cell_type": "code",
      "execution_count": null,
      "metadata": {
        "vscode": {
          "languageId": "python"
        }
      },
      "outputs": [],
      "source": [
        "#x = df[\"StudyHours\"] # ValueError: Expected 2D array, got 1D array instead\n",
        "x = df[[\"StudyHours\"]] # model wants x to be a matrix / DataFrame\n",
        "print(x.shape)\n",
        "\n",
        "y = df[\"Grade\"]\n",
        "print(y.shape)"
      ]
    },
    {
      "cell_type": "markdown",
      "metadata": {},
      "source": [
        ":::{.callout-note title=\"Note\"}\n",
        "When using `sklearn`, we must construct the features as a two-dimensional array (even if the data only contains one column).\n",
        ":::\n",
        "\n",
        "### Train Test Split\n",
        "\n",
        "Splitting the data randomly into test and training sets. We will train the model on the training set, and evaluate the model using the test set. This helps for generalizability, and to prevent overfitting."
      ]
    },
    {
      "cell_type": "code",
      "execution_count": null,
      "metadata": {
        "vscode": {
          "languageId": "python"
        }
      },
      "outputs": [],
      "source": [
        "from sklearn.model_selection import train_test_split\n",
        "\n",
        "x_train, x_test, y_train, y_test = train_test_split(x, y, random_state=99)\n",
        "print(\"TRAIN:\", x_train.shape, y_train.shape)\n",
        "print(\"TEST:\", x_test.shape, y_test.shape)"
      ]
    },
    {
      "cell_type": "markdown",
      "metadata": {},
      "source": [
        "## Model Selection and Training\n",
        "\n",
        "Selecting a linear regression (OLS), and training it on the training data to learn the ideal weights:"
      ]
    },
    {
      "cell_type": "code",
      "execution_count": null,
      "metadata": {
        "vscode": {
          "languageId": "python"
        }
      },
      "outputs": [],
      "source": [
        "from sklearn.linear_model import LinearRegression\n",
        "\n",
        "model = LinearRegression()\n",
        "\n",
        "model.fit(x_train, y_train)"
      ]
    },
    {
      "cell_type": "markdown",
      "metadata": {},
      "source": [
        "After the model is trained, we have access to the ideal weights (i.e. \"coefficients\"). There is one coefficient for each feature (in this case only one: number of hours studied)."
      ]
    },
    {
      "cell_type": "code",
      "execution_count": null,
      "metadata": {
        "vscode": {
          "languageId": "python"
        }
      },
      "outputs": [],
      "source": [
        "print(\"COEFS:\", model.coef_.round(3)) # one for each feature\n",
        "print(\"Y INTERCEPT:\", model.intercept_.round(3))"
      ]
    },
    {
      "cell_type": "markdown",
      "metadata": {},
      "source": [
        ":::{.callout-note title=\"Note\"}\n",
        "The convention with `sklearn` models is that any methods or properties ending with an underscore (`_`), like `coef_` and `intercept_` are only available after the model has been trained.\n",
        ":::\n",
        "\n",
        "When we have multiple coefficients, it will be helpful to wrap them in a `Series` to see which weights correspond with which features (although in this case there is only one feature):"
      ]
    },
    {
      "cell_type": "code",
      "execution_count": null,
      "metadata": {
        "vscode": {
          "languageId": "python"
        }
      },
      "outputs": [],
      "source": [
        "from pandas import Series\n",
        "\n",
        "coefs = Series(model.coef_, index=model.feature_names_in_)\n",
        "print(coefs)"
      ]
    },
    {
      "cell_type": "markdown",
      "metadata": {},
      "source": [
        "The coefficients and y-intercept tell us the line of best fit:"
      ]
    },
    {
      "cell_type": "code",
      "execution_count": null,
      "metadata": {
        "vscode": {
          "languageId": "python"
        }
      },
      "outputs": [],
      "source": [
        "print(\"--------------\")\n",
        "print(f\"EQUATION FOR LINE OF BEST FIT:\")\n",
        "print(f\"y = ({round(model.coef_[0], 3)} * StudyHours) + {round(model.intercept_, 3)}\")"
      ]
    },
    {
      "cell_type": "markdown",
      "metadata": {},
      "source": [
        "## Model Predictions and Evaluation\n",
        "\n",
        "Alright, we trained the model, but how well does it do in making predictions?\n",
        "\n",
        "We use the trained model to make predictions on the unseen (test) data:"
      ]
    },
    {
      "cell_type": "code",
      "execution_count": null,
      "metadata": {
        "vscode": {
          "languageId": "python"
        }
      },
      "outputs": [],
      "source": [
        "y_pred = model.predict(x_test)\n",
        "print(y_pred)"
      ]
    },
    {
      "cell_type": "markdown",
      "metadata": {},
      "source": [
        "We can then compare each of the predicted values against the actual known values:"
      ]
    },
    {
      "cell_type": "code",
      "execution_count": null,
      "metadata": {
        "vscode": {
          "languageId": "python"
        }
      },
      "outputs": [],
      "source": [
        "# get all rows from the original dataset that wound up in the test set:\n",
        "test_set = df.loc[x_test.index].copy()\n",
        "\n",
        "# create a column for the predictions:\n",
        "test_set[\"PredictedGrade\"] = y_pred.round(1)\n",
        "\n",
        "# calculate error for each datapoint:\n",
        "test_set[\"Error\"] = (y_pred - y_test).round(1)\n",
        "\n",
        "test_set.sort_values(by=\"StudyHours\", ascending=False)"
      ]
    },
    {
      "cell_type": "markdown",
      "metadata": {},
      "source": [
        "Plotting the errors on a graph:"
      ]
    },
    {
      "cell_type": "code",
      "execution_count": null,
      "metadata": {
        "vscode": {
          "languageId": "python"
        }
      },
      "outputs": [],
      "source": [
        "px.scatter(test_set, x=\"StudyHours\", y=[\"Grade\", \"PredictedGrade\"],\n",
        "           hover_data=\"Name\", height=350,\n",
        "           title=f\"Prediction errors (test set)\",\n",
        "           labels={\"value\":\"\"}\n",
        ")"
      ]
    },
    {
      "cell_type": "markdown",
      "metadata": {},
      "source": [
        "To get a measure for how well the model did across the entire test dataset, we can use any number of desired regression metrics (r-squared score, mean squared error, mean absolute error, root mean sqared error), to see how well the model does.\n",
        "\n",
        "\n",
        "It is possible for us to compute our own metrics:"
      ]
    },
    {
      "cell_type": "code",
      "execution_count": null,
      "metadata": {
        "vscode": {
          "languageId": "python"
        }
      },
      "outputs": [],
      "source": [
        "my_mae = test_set[\"Error\"].abs().mean()\n",
        "print(\"MY MAE:\", my_mae.round(3))"
      ]
    },
    {
      "cell_type": "code",
      "execution_count": null,
      "metadata": {
        "vscode": {
          "languageId": "python"
        }
      },
      "outputs": [],
      "source": [
        "my_mse = (test_set[\"Error\"] ** 2).mean()\n",
        "print(\"MY MSE:\", my_mse.round(1))"
      ]
    },
    {
      "cell_type": "markdown",
      "metadata": {},
      "source": [
        "However more commonly we will use metric functions from the [`sklearn.metrics` submodule](https://scikit-learn.org/stable/modules/model_evaluation.html#regression-metrics):\n"
      ]
    },
    {
      "cell_type": "code",
      "execution_count": null,
      "metadata": {
        "vscode": {
          "languageId": "python"
        }
      },
      "outputs": [],
      "source": [
        "from sklearn.metrics import r2_score, mean_squared_error, mean_absolute_error\n",
        "\n",
        "r2 = r2_score(y_test, y_pred)\n",
        "print(\"R^2:\", round(r2, 3))\n",
        "\n",
        "mae = mean_absolute_error(y_test, y_pred)\n",
        "print(\"MAE:\", round(mae, 3))\n",
        "\n",
        "mse = mean_squared_error(y_test, y_pred)\n",
        "print(\"MSE:\", round(mse,3))"
      ]
    },
    {
      "cell_type": "code",
      "execution_count": null,
      "metadata": {
        "vscode": {
          "languageId": "python"
        }
      },
      "outputs": [],
      "source": [
        "rmse = mse ** .5\n",
        "print(\"RMSE:\", rmse.round(3))"
      ]
    },
    {
      "cell_type": "markdown",
      "metadata": {},
      "source": [
        "## Inference\n",
        "\n",
        "Now that the model has been trained and deemed to have a sufficient performance, we can use it to make predictions on unseen data (sometimes called \"inference\"):"
      ]
    },
    {
      "cell_type": "code",
      "execution_count": null,
      "metadata": {
        "vscode": {
          "languageId": "python"
        }
      },
      "outputs": [],
      "source": [
        "from pandas import DataFrame\n",
        "\n",
        "x_new = DataFrame({\"StudyHours\": [0, 4, 8, 12, 16, 20]})\n",
        "\n",
        "model.predict(x_new)"
      ]
    },
    {
      "cell_type": "markdown",
      "metadata": {},
      "source": [
        "Alright, we have trained a model and used it to make predictions."
      ]
    }
  ],
  "metadata": {
    "kernelspec": {
      "display_name": "Python 3 (ipykernel)",
      "language": "python",
      "name": "python3"
    }
  },
  "nbformat": 4,
  "nbformat_minor": 4
}
